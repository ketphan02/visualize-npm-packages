{
  "nbformat": 4,
  "nbformat_minor": 0,
  "metadata": {
    "colab": {
      "name": "Visualize npm packages.ipynb",
      "provenance": [],
      "collapsed_sections": [],
      "authorship_tag": "ABX9TyMn7qIryCK5xjuwiwU9zWBv",
      "include_colab_link": true
    },
    "kernelspec": {
      "name": "python3",
      "display_name": "Python 3"
    },
    "language_info": {
      "name": "python"
    }
  },
  "cells": [
    {
      "cell_type": "markdown",
      "metadata": {
        "id": "view-in-github",
        "colab_type": "text"
      },
      "source": [
        "<a href=\"https://colab.research.google.com/github/ketphan02/visualize-npm-packages/blob/main/Visualize_npm_packages.ipynb\" target=\"_parent\"><img src=\"https://colab.research.google.com/assets/colab-badge.svg\" alt=\"Open In Colab\"/></a>"
      ]
    },
    {
      "cell_type": "code",
      "metadata": {
        "colab": {
          "base_uri": "https://localhost:8080/"
        },
        "id": "XD8wwsHNsOyp",
        "outputId": "1670179e-4142-4708-d98b-0180c6e0b63d"
      },
      "source": [
        "import requests\n",
        "import time\n",
        "from bs4 import BeautifulSoup\n",
        "from urllib.parse import unquote\n",
        "import networkx as nx\n",
        "import matplotlib.pyplot as plt\n",
        "%matplotlib inline\n",
        "  \n",
        "# Defining a Class\n",
        "class GraphVisualization:\n",
        "   \n",
        "    def __init__(self):\n",
        "          \n",
        "        # visual is a list which stores all \n",
        "        # the set of edges that constitutes a\n",
        "        # graph\n",
        "        self.visual = []\n",
        "          \n",
        "    # addEdge function inputs the vertices of an\n",
        "    # edge and appends it to the visual list\n",
        "    def addEdge(self, a, b):\n",
        "        temp = [a, b]\n",
        "        self.visual.append(temp)\n",
        "          \n",
        "    # In visualize function G is an object of\n",
        "    # class Graph given by networkx G.add_edges_from(visual)\n",
        "    # creates a graph with a given list\n",
        "    # nx.draw_networkx(G) - plots the graph\n",
        "    # plt.show() - displays the graph\n",
        "    def visualize(self):\n",
        "        fig = plt.figure(figsize=(40, 15))\n",
        "        G = nx.Graph()\n",
        "        G.add_edges_from(self.visual)\n",
        "        nx.draw_networkx(G)\n",
        "        plt.show()\n",
        "\n",
        "package_name = input().strip()\n",
        "package_href = 'package/' + package_name\n",
        "base_url = 'https://www.npmjs.com/'\n",
        "dependencies = set()\n",
        "checked_dependencies = []\n",
        "G = GraphVisualization()\n",
        "cnt = 1\n",
        "\n",
        "def append_packages(package_href, flag = False):\n",
        "  package_url = base_url + package_href + '?activeTab=dependencies'\n",
        "  package_contents = requests.get(package_url).text\n",
        "  try:\n",
        "    soup = BeautifulSoup(package_contents, 'html.parser')\n",
        "    dependencies = soup.find(id='tabpanel-dependencies').find_all('a', href=True)\n",
        "    dependencies = [dependency['href'] for dependency in dependencies]\n",
        "\n",
        "    pacakge_name = package_href.split('/')[-1]\n",
        "    for dependency in dependencies:\n",
        "      G.addEdge(pacakge_name, unquote(dependency.split('/')[-1]))\n",
        "  except Exception as e:\n",
        "    if not flag:\n",
        "      print('                                            ', end='\\r')\n",
        "      print('Waiting for the API to recover', end='')\n",
        "      for i in range(10):\n",
        "          print('.', end='')\n",
        "          time.sleep(1)\n",
        "      return append_packages(package_href, True)\n",
        "    else:\n",
        "        dependencies = []\n",
        "  return dependencies\n",
        "\n",
        "while True:\n",
        "  if (package_href not in checked_dependencies):\n",
        "    dependencies_arr = append_packages(package_href)\n",
        "    checked_dependencies.append(package_href)\n",
        "    dependencies.update(dependencies_arr)\n",
        "  \n",
        "  if (len(dependencies) == 0):\n",
        "    breakpoint\n",
        "\n",
        "  package_href = dependencies.pop()\n",
        "  print('                                            ', end='\\r')\n",
        "  print(cnt, unquote(package_href.split('/')[-1]), end='')\n",
        "  cnt += 1\n",
        "\n",
        "print('                                            ', end='\\r')\n",
        "print(len(checked_dependencies))\n",
        "G.visualize()"
      ],
      "execution_count": null,
      "outputs": [
        {
          "output_type": "stream",
          "text": [
            "lru-cache\n",
            "Waiting for the API to recover.........."
          ],
          "name": "stdout"
        }
      ]
    },
    {
      "cell_type": "code",
      "metadata": {
        "id": "WXqxuUFsu0Af"
      },
      "source": [
        ""
      ],
      "execution_count": null,
      "outputs": []
    }
  ]
}